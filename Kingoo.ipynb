{
 "cells": [
  {
   "cell_type": "markdown",
   "id": "fc187ef5-6ee3-4bd9-8884-1f0241cd5342",
   "metadata": {},
   "source": [
    "# Header 2 Kingoo's Code"
   ]
  },
  {
   "cell_type": "code",
   "execution_count": null,
   "id": "03795187-211e-4ee4-9a1b-da1da2a8a77c",
   "metadata": {},
   "outputs": [],
   "source": [
    "print (\"Hello\")"
   ]
  },
  {
   "cell_type": "code",
   "execution_count": null,
   "id": "00bb08f7-4af3-417d-bb35-b37adeb74548",
   "metadata": {},
   "outputs": [],
   "source": []
  },
  {
   "cell_type": "code",
   "execution_count": null,
   "id": "b30cb7d5-a176-4549-b132-420ed2893fd6",
   "metadata": {},
   "outputs": [],
   "source": []
  }
 ],
 "metadata": {
  "kernelspec": {
   "display_name": "Python",
   "language": "python",
   "name": "conda-env-python-py"
  },
  "language_info": {
   "codemirror_mode": {
    "name": "ipython",
    "version": 3
   },
   "file_extension": ".py",
   "mimetype": "text/x-python",
   "name": "python",
   "nbconvert_exporter": "python",
   "pygments_lexer": "ipython3",
   "version": "3.7.12"
  }
 },
 "nbformat": 4,
 "nbformat_minor": 5
}
